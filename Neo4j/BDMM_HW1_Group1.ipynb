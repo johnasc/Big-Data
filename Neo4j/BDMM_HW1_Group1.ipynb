{
 "cells": [
  {
   "cell_type": "markdown",
   "metadata": {},
   "source": [
    "# Big Data Modeling and Management Assigment - Homework 1"
   ]
  },
  {
   "cell_type": "markdown",
   "metadata": {},
   "source": [
    "## 🍺 The Beer project  🍺 \n",
    "\n",
    "As it was shown in classes, graph databases are a natural way of navegating distinct types of data. For this first project we will be taking a graph database to analyse beer and breweries!   \n",
    "\n",
    "_For reference the dataset used for this project has been extracted from [kaggle](https://www.kaggle.com/ehallmar/beers-breweries-and-beer-reviews), released by Evan Hallmark. Even though the author does not present metada on the origin of the data it is probably a collection of open data from places like [beeradvocate](https://www.beeradvocate.com/)_.\n",
    "\n",
    "### Problem description\n",
    "\n",
    "Explore the database via python neo4j connector and/or the graphical tool in the NEO4J webpage. Answer the questions. Submit the results by following the instructions\n",
    "\n",
    "\n",
    "### Questions\n",
    "\n",
    "1. How many different countries exist in the database?\n",
    "1. Most reviews:  \n",
    "    1. Which `Beer` has the most reviews?  \n",
    "    1. Which `Brewery` has the most reviews for its beers? [Hint: 5-node path]\n",
    "    1. Which `Country` has the most reviews for its beers? [Hint: 5-node path]\n",
    "1. Find the user/users that have the most shared reviews (reviews of the same beers) with the user CTJman?\n",
    "1. Which Portuguese brewery has the most beers?\n",
    "1. From those beers (the ones returned from the previous question), which has the most reviews?\n",
    "1. On average how many different beer styles does each brewery produce?\n",
    "1. Which brewery produces the strongest beers according to ABV? [Hint: database has NaN values]\n",
    "1. If I typically enjoy a beer due to its aroma and appearance, which beer style should I try? (Justify your answer well!) [Hint: database has NaN values]\n",
    "1. Using Graph Algorithms answer **one** of the following questions: [Hint: make sure to clear the graph before using it again]\n",
    "    1. Which two countries are most similiar when it comes to their **top 10** most produced Beer styles?\n",
    "    2. Which beer is the most influential when considering beers are conected by users who review them? [Please use limit of 1000 on beer-review-user path]]\n",
    "    3. Users are connected together by their reviews to beers, taking into consideration the \"overall\" score they review as a weight, how many communities are formed from these relationships? How many users has the biggest community? [Please use limit of 1000 on beer-review-user path]]\n",
    "1. Using Graph Algorithms answer **one** of the following questions:\n",
    "    1. Which beer has the most similar reviews as the beer `Super Bock Stout`? [Hint:inspect two subsets: with and without the beer in question]\n",
    "    2. Which user is the most influential when it comes to reviews made?\n",
    "1. If you had to pick 3 beers to recommend using only this database, which would you pick and why? (Justify your answer well!) [Hint: database has NaN values]\n",
    "\n",
    "\n",
    "Questions 8 to 10 are somewhat open, which means we'll also be evaluating the reasoning behind your answer. So there aren't necessarily bad results there are only wrong criteria, explanations or execution. \n",
    " \n",
    "### Groups  \n",
    "\n",
    "Groups should have 4 to 5 people.\n",
    "You should register your group on **moodle**.\n",
    "\n",
    "### Submission      \n",
    "\n",
    "The code used to produce the results and respective explations should be uploaded to moodle. They should have a clear reference to the group, either on the file name or on the document itself. Preferably one Jupyter notebook per group.\n",
    "\n",
    "Delivery date: Until the **midnight of March 13**\n",
    "\n",
    "### Evaluation   \n",
    "\n",
    "This will be 20% of the final grade.   \n",
    "Each solution will be evaluated on 2 components: correctness of results and simplicity of the solution.  \n",
    "All code will go through plagiarism automated checks. Groups with the same code will undergo investigation."
   ]
  },
  {
   "cell_type": "markdown",
   "metadata": {},
   "source": [
    "## Loading the Database\n",
    "\n",
    "#### Be sure that you **don't have** the neo4j docker container from the classes running (you can Stop it in the desktop app or with the command \"`docker stop Neo4JLab`\")\n",
    "\n",
    "\n",
    "The default container does not have any data whatsoever, we will have to load a database into our docker image:\n",
    "- Download and unzip the `Neo4JHWData` file provided in Moodle.\n",
    "- Copy the path of the `Neo4JHWData` folder of the unziped file, e.g. `C:/Users/nunoa/Desktop/Aulas/Big Data Management and Modelling/2023/HW1/Neo4JHWData/data`.\n",
    "- Download and unzip the `Neo4JPlugins` file provided in Moodle.\n",
    "- Copy the path of the `Neo4JPlugins` folder of the unziped file, e.g. `C:/Users/nunoa/Desktop/Aulas/Big Data Management and Modelling/2023/Neo4Jplugins`.\n",
    "- Change the code bellow accordingly. As you might have noticed, you do not have a user called `nunoa`, please use the appropriate path that you got from the previous step. Be sure that you have a neo4j docker container running: \\\n",
    "\n",
    "`docker run --name Neo4JHW -p 7474:7474 -p 7687:7687 -d -v \"C:\\Users\\ABeatriz\\Desktop\\Mestrado\\1ºANO DS-BA\\2SEMESTRE\\BDMM\\HW1\\Neo4JPlugins\":/plugins -v \"C:\\Users\\ABeatriz\\Desktop\\Mestrado\\1ºANO DS-BA\\2SEMESTRE\\BDMM\\HW1\\Neo4JHWData\\data\":/data --env NEO4J_AUTH=neo4j/test --env NEO4J_dbms_connector_https_advertised__address=\"localhost:7473\" --env NEO4J_dbms_connector_http_advertised__address=\"localhost:7474\" --env NEO4J_dbms_connector_bolt_advertised__address=\"localhost:7687\" --env NEO4J_dbms_security_procedures_unrestricted=gds.* --env NEO4J_dbms_security_procedures_allowlist=gds.* neo4j:4.4.5`\n",
    "\n",
    "- Since Neo4j is trying to recognize a new database folder, this might take a bit (let's say 3 minutes), so don't worry."
   ]
  },
  {
   "cell_type": "code",
   "execution_count": 1,
   "metadata": {},
   "outputs": [],
   "source": [
    "from neo4j import GraphDatabase\n",
    "from pprint import pprint"
   ]
  },
  {
   "cell_type": "code",
   "execution_count": 2,
   "metadata": {},
   "outputs": [],
   "source": [
    "NEO4J_URI=\"neo4j://localhost:7687\"\n",
    "NEO4J_USERNAME=\"neo4j\"\n",
    "NEO4J_PASSWORD=\"test\""
   ]
  },
  {
   "cell_type": "code",
   "execution_count": 3,
   "metadata": {},
   "outputs": [],
   "source": [
    "driver = GraphDatabase.driver(NEO4J_URI, auth=(NEO4J_USERNAME, NEO4J_PASSWORD), )"
   ]
  },
  {
   "cell_type": "markdown",
   "metadata": {},
   "source": [
    "### All The Functions you'll need to run queries in Neo4J"
   ]
  },
  {
   "cell_type": "code",
   "execution_count": 4,
   "metadata": {},
   "outputs": [],
   "source": [
    "def execute_read(driver, query):    \n",
    "    with driver.session(database=\"neo4j\") as session:\n",
    "        result = session.execute_read(lambda tx, query: list(tx.run(query)), query)\n",
    "    return result"
   ]
  },
  {
   "cell_type": "markdown",
   "metadata": {},
   "source": [
    "### Understanding the Database"
   ]
  },
  {
   "cell_type": "code",
   "execution_count": 5,
   "metadata": {},
   "outputs": [
    {
     "name": "stdout",
     "output_type": "stream",
     "text": [
      "[<Record label='COUNTRIES'>,\n",
      " <Record label='CITIES'>,\n",
      " <Record label='BREWERIES'>,\n",
      " <Record label='BEERS'>,\n",
      " <Record label='REVIEWS'>,\n",
      " <Record label='STYLE'>,\n",
      " <Record label='USER'>]\n"
     ]
    }
   ],
   "source": [
    "query = \"\"\"\n",
    "        call db.labels();\n",
    "    \"\"\"\n",
    "\n",
    "result = execute_read(driver, query)\n",
    "\n",
    "pprint(result)"
   ]
  },
  {
   "cell_type": "code",
   "execution_count": 6,
   "metadata": {},
   "outputs": [
    {
     "name": "stdout",
     "output_type": "stream",
     "text": [
      "[<Record relationshipType='REVIEWED'>,\n",
      " <Record relationshipType='BREWED'>,\n",
      " <Record relationshipType='IN'>,\n",
      " <Record relationshipType='HAS_STYLE'>,\n",
      " <Record relationshipType='POSTED'>]\n"
     ]
    }
   ],
   "source": [
    "query = \"\"\"\n",
    "        CALL db.relationshipTypes();\n",
    "    \"\"\"\n",
    "\n",
    "result = execute_read(driver, query)\n",
    "\n",
    "pprint(result)"
   ]
  },
  {
   "cell_type": "markdown",
   "metadata": {},
   "source": [
    "# Submission\n",
    "\n",
    "GROUP NUMBER:\n",
    "\n",
    "**1**\n",
    "\n",
    "GROUP MEMBERS:\n",
    "\n",
    "|STUDENT NUMBER|STUDENT NAME|\n",
    "|---|---|\n",
    "|Ana Beatriz Esteves | 20191209 |\n",
    "|Ana Gonçalinho | 20191210 |\n",
    "|Wai Kong Ng | 20221384 |\n",
    "|Marta Antunes | 20221094 |\n",
    "|Johnas Chami | 20220723 |"
   ]
  },
  {
   "cell_type": "markdown",
   "metadata": {},
   "source": [
    "#### 1. How many different countries exist in the database?"
   ]
  },
  {
   "cell_type": "code",
   "execution_count": 7,
   "metadata": {
    "scrolled": false
   },
   "outputs": [
    {
     "name": "stdout",
     "output_type": "stream",
     "text": [
      "[<Record NumCountries=200>]\n"
     ]
    }
   ],
   "source": [
    "countries = \"\"\"\n",
    "        MATCH (c:COUNTRIES)\n",
    "        RETURN COUNT(c) AS NumCountries\n",
    "\"\"\"\n",
    "\n",
    "result = execute_read(driver, countries)\n",
    "\n",
    "pprint(result)"
   ]
  },
  {
   "cell_type": "markdown",
   "metadata": {},
   "source": [
    "#### 2. Most reviews:  \n",
    "    A) Which `Beer` has the most reviews?"
   ]
  },
  {
   "cell_type": "code",
   "execution_count": 8,
   "metadata": {},
   "outputs": [
    {
     "name": "stdout",
     "output_type": "stream",
     "text": [
      "[<Record MostReviewedBeer='IPA' NumReviews=31387>]\n"
     ]
    }
   ],
   "source": [
    "mostReviewedBeer = \"\"\"\n",
    "        MATCH (b:BEERS)-[:REVIEWED]->(r:REVIEWS) \n",
    "        RETURN b.name AS MostReviewedBeer, COUNT(r) AS NumReviews \n",
    "        ORDER BY NumReviews DESC\n",
    "        LIMIT 1\n",
    "\n",
    "\"\"\"\n",
    "result = execute_read(driver, mostReviewedBeer)\n",
    "\n",
    "pprint(result)"
   ]
  },
  {
   "cell_type": "markdown",
   "metadata": {},
   "source": [
    "    B) Which `Brewery` has the most reviews for its beers?"
   ]
  },
  {
   "cell_type": "code",
   "execution_count": 9,
   "metadata": {},
   "outputs": [
    {
     "name": "stdout",
     "output_type": "stream",
     "text": [
      "[<Record MostReviewedBrewery_forBeers='Sierra Nevada Brewing Co.' NumReviews=175161>]\n"
     ]
    }
   ],
   "source": [
    "mostReviewedBrewery_forBeers = \"\"\"\n",
    "        MATCH (bw:BREWERIES)-[:BREWED]->(:BEERS)-[:REVIEWED]->(r:REVIEWS) \n",
    "        RETURN bw.name AS MostReviewedBrewery_forBeers, COUNT(r) AS NumReviews \n",
    "        ORDER BY NumReviews DESC\n",
    "        LIMIT 1\n",
    "\n",
    "\"\"\"\n",
    "result = execute_read(driver, mostReviewedBrewery_forBeers)\n",
    "\n",
    "pprint(result)"
   ]
  },
  {
   "cell_type": "markdown",
   "metadata": {},
   "source": [
    "    C) Which `Country` has the most reviews for its beers? "
   ]
  },
  {
   "cell_type": "code",
   "execution_count": 10,
   "metadata": {},
   "outputs": [
    {
     "name": "stdout",
     "output_type": "stream",
     "text": [
      "[<Record CountryName='US' ReviewCount=7675804>]\n"
     ]
    }
   ],
   "source": [
    "mostReviewedCountry_forBeers = \"\"\"\n",
    "    MATCH (c:COUNTRIES)<-[:IN]-(:CITIES)<-[:IN]-(:BREWERIES)-[:BREWED]->(:BEERS)-[:REVIEWED]->(r:REVIEWS)\n",
    "    RETURN c.name AS CountryName, COUNT(r) AS ReviewCount\n",
    "    ORDER BY ReviewCount DESC\n",
    "    LIMIT 1\n",
    "\"\"\"\n",
    "result = execute_read(driver, mostReviewedCountry_forBeers)\n",
    "\n",
    "pprint(result)"
   ]
  },
  {
   "cell_type": "markdown",
   "metadata": {},
   "source": [
    "#### 3. Find the user/users that have the most shared reviews (reviews of the same beers) with the user CTJman?"
   ]
  },
  {
   "cell_type": "code",
   "execution_count": 11,
   "metadata": {},
   "outputs": [
    {
     "name": "stdout",
     "output_type": "stream",
     "text": [
      "[<Record UsersName='acurtis' SharedReviews=1428>,\n",
      " <Record UsersName='Texasfan549' SharedReviews=1257>,\n",
      " <Record UsersName='kjkinsey' SharedReviews=1205>,\n",
      " <Record UsersName='oline73' SharedReviews=1191>,\n",
      " <Record UsersName='chippo33' SharedReviews=1161>,\n",
      " <Record UsersName='mendvicdog' SharedReviews=1156>,\n",
      " <Record UsersName='spycow' SharedReviews=1142>,\n",
      " <Record UsersName='djrn2' SharedReviews=1122>,\n",
      " <Record UsersName='duceswild' SharedReviews=1081>,\n",
      " <Record UsersName='SocalKicks' SharedReviews=1077>]\n"
     ]
    }
   ],
   "source": [
    "sharedReviews = \"\"\"\n",
    "        MATCH (u1:USER {name: 'CTJman'})<-[:POSTED]-(r1:REVIEWS)<-[:REVIEWED]-(b:BEERS)\n",
    "        -[:REVIEWED]->(r2:REVIEWS)-[:POSTED]->(u2:USER)\n",
    "        WHERE NOT u2.name = 'CTJman'\n",
    "        WITH u2, COUNT(DISTINCT b) AS NumReviews\n",
    "        RETURN u2.name AS UsersName, NumReviews AS SharedReviews\n",
    "        ORDER BY NumReviews DESC\n",
    "        LIMIT 10\n",
    "        \n",
    "\"\"\"\n",
    "\n",
    "result = execute_read(driver, sharedReviews)\n",
    "\n",
    "pprint(result)\n"
   ]
  },
  {
   "cell_type": "markdown",
   "metadata": {},
   "source": [
    "#### 4. Which Portuguese brewery has the most beers?\n"
   ]
  },
  {
   "cell_type": "code",
   "execution_count": 12,
   "metadata": {},
   "outputs": [
    {
     "name": "stdout",
     "output_type": "stream",
     "text": [
      "[<Record BreweryName='Dois Corvos Cervejeira' BeerCount=40>]\n"
     ]
    }
   ],
   "source": [
    "portugueseBreweryMostBeers = \"\"\"\n",
    "        MATCH (bw:BREWERIES)-[:IN]->(:CITIES)-[:IN]->(c:COUNTRIES)\n",
    "        WHERE c.name = 'PT'\n",
    "        MATCH (bw)-[:BREWED]->(b:BEERS)\n",
    "        WITH bw, COUNT(b) AS BeerCount\n",
    "        ORDER BY BeerCount DESC\n",
    "        LIMIT 1\n",
    "        RETURN bw.name AS BreweryName, BeerCount\n",
    "\n",
    "\"\"\"\n",
    "result = execute_read(driver, portugueseBreweryMostBeers)\n",
    "\n",
    "pprint(result)"
   ]
  },
  {
   "cell_type": "markdown",
   "metadata": {},
   "source": [
    "#### 5. From those beers (the ones produced in the brewery from the previous question), which has the most reviews?\n"
   ]
  },
  {
   "cell_type": "code",
   "execution_count": 13,
   "metadata": {},
   "outputs": [
    {
     "name": "stdout",
     "output_type": "stream",
     "text": [
      "[<Record MostReviewedBeer='Finisterra' NumReviews=10>]\n"
     ]
    }
   ],
   "source": [
    "mostReviewedBeerPT = \"\"\"\n",
    "        MATCH (bw:BREWERIES)-[:BREWED]->(b:BEERS)-[:REVIEWED]->(r:REVIEWS)\n",
    "        WHERE bw.name = 'Dois Corvos Cervejeira'\n",
    "        RETURN b.name AS MostReviewedBeer, COUNT(r) AS NumReviews\n",
    "        ORDER BY NumReviews DESC\n",
    "        LIMIT 1\n",
    "\"\"\"\n",
    "result = execute_read(driver, mostReviewedBeerPT)\n",
    "\n",
    "pprint(result)"
   ]
  },
  {
   "cell_type": "markdown",
   "metadata": {},
   "source": [
    "#### 6. On average how many different beer styles does each brewery produce?"
   ]
  },
  {
   "cell_type": "code",
   "execution_count": 14,
   "metadata": {},
   "outputs": [
    {
     "name": "stdout",
     "output_type": "stream",
     "text": [
      "[<Record AvgBeerStylesBrewery=10.6>]\n"
     ]
    }
   ],
   "source": [
    "avgBeerStylesBrewery = \"\"\"\n",
    "    MATCH (bw:BREWERIES)-[:BREWED]->(:BEERS)-[:HAS_STYLE]->(s:STYLE)\n",
    "    WITH bw, COUNT(DISTINCT s) AS NumStyles\n",
    "    RETURN ROUND(AVG(NumStyles),2) AS AvgBeerStylesBrewery\n",
    "    \"\"\"\n",
    "\n",
    "result = execute_read(driver, avgBeerStylesBrewery)\n",
    "\n",
    "pprint(result)"
   ]
  },
  {
   "cell_type": "markdown",
   "metadata": {},
   "source": [
    "#### 7. Which brewery produces the strongest beers according to ABV?"
   ]
  },
  {
   "cell_type": "code",
   "execution_count": 15,
   "metadata": {},
   "outputs": [
    {
     "name": "stdout",
     "output_type": "stream",
     "text": [
      "[<Record Brewery='Morgan Territory Brewing' Beer='Dark Reckoning' highestABV=80.0>,\n",
      " <Record Brewery='Brewmeister' Beer='Snake Venom' highestABV=67.5>,\n",
      " <Record Brewery='Redline Brewhouse' Beer='series 3' highestABV=66.0>,\n",
      " <Record Brewery='Brewmeister' Beer='Armageddon' highestABV=65.0>,\n",
      " <Record Brewery=\"Brouwerij 't Koelschip\" Beer='Start The Future' highestABV=60.0>]\n"
     ]
    }
   ],
   "source": [
    "highestABV_BreweryBeers = \"\"\"\n",
    "    MATCH (bw:BREWERIES)-[:BREWED]->(b:BEERS)\n",
    "    WHERE NOT b.abv = 'None' AND NOT b.abv = '' AND toFloat(b.abv) <> 100.0\n",
    "    WITH bw.name AS Brewery, b.name AS Beer, toFloat(b.abv) AS ABV\n",
    "    RETURN Brewery, Beer, MAX(ABV) AS highestABV\n",
    "    ORDER BY highestABV DESC\n",
    "    LIMIT 5\n",
    "\"\"\"\n",
    "\n",
    "result = execute_read(driver, highestABV_BreweryBeers)\n",
    "\n",
    "pprint(result)"
   ]
  },
  {
   "cell_type": "markdown",
   "metadata": {},
   "source": [
    "#### 8. If I typically enjoy a beer due to its aroma and appearance, which beer style should I try?"
   ]
  },
  {
   "cell_type": "code",
   "execution_count": 16,
   "metadata": {},
   "outputs": [
    {
     "name": "stdout",
     "output_type": "stream",
     "text": [
      "[<Record BeerStyle='New England IPA' BeerAppreciationScore=8.8 NumReviews=110696>,\n",
      " <Record BeerStyle='American Imperial Stout' BeerAppreciationScore=8.55 NumReviews=352193>,\n",
      " <Record BeerStyle='Belgian Gueuze' BeerAppreciationScore=8.41 NumReviews=20237>,\n",
      " <Record BeerStyle='American Imperial Porter' BeerAppreciationScore=8.39 NumReviews=30643>,\n",
      " <Record BeerStyle='Russian Imperial Stout' BeerAppreciationScore=8.38 NumReviews=147535>]\n"
     ]
    }
   ],
   "source": [
    "BeerAppreciationScore= \"\"\"\n",
    "    MATCH (s:STYLE)<-[:HAS_STYLE]-(b:BEERS)-[:REVIEWED]->(r:REVIEWS)\n",
    "    WHERE NOT r.smell = 'nan' AND NOT r.look = 'nan'\n",
    "    WITH s.name AS BeerStyle, AVG(toFloat(r.smell)) AS BeerSmell,\n",
    "    AVG(toFloat(r.look)) AS BeerAppearance, COUNT(r) as NumReviews\n",
    "    RETURN BeerStyle, ROUND((BeerSmell + BeerAppearance),2) AS BeerAppreciationScore, NumReviews\n",
    "    ORDER BY BeerAppreciationScore DESC\n",
    "    LIMIT 5\n",
    "    \"\"\"\n",
    "\n",
    "result = execute_read(driver, BeerAppreciationScore)\n",
    "\n",
    "pprint(result)\n",
    "\n",
    "# Since the person enjoys a beer depending on its aroma and appearance and understood it as the higher the score in both\n",
    "# beer charaterisctics, the more the person will enjoy the drink. We started by calculating the average of score for each\n",
    "# drink, because the same drink can have a lot of reviews and in those reviews different scores for both aroma and\n",
    "# appearance. After computing the average score for every drink we calculated the sum of average score of aroma with\n",
    "# average score of appearance in order to identify the drinks with higher score in these categores.\n",
    "# Finally we just had to order by that score in descending order to obtain the highest scored drink in average in both aroma\n",
    "# and appearance."
   ]
  },
  {
   "cell_type": "markdown",
   "metadata": {},
   "source": [
    "#### 9. Using Graph Algorithms answer **one** of the following questions:\n",
    "    1. Which two countries are most similiar when it comes to their **top 10** most produced Beer styles?"
   ]
  },
  {
   "cell_type": "code",
   "execution_count": 17,
   "metadata": {},
   "outputs": [
    {
     "name": "stdout",
     "output_type": "stream",
     "text": [
      "[<Record graphName='similar_countries'>]\n"
     ]
    }
   ],
   "source": [
    "# Step 0 - Clear graph\n",
    "\n",
    "try:\n",
    "    query = \"\"\"\n",
    "            CALL gds.graph.drop('similar_countries') YIELD graphName;\n",
    "        \"\"\"\n",
    "\n",
    "    result = execute_read(driver, query)\n",
    "\n",
    "    pprint(result)\n",
    "except Exception as e:\n",
    "    pprint(e)"
   ]
  },
  {
   "cell_type": "code",
   "execution_count": 18,
   "metadata": {},
   "outputs": [
    {
     "name": "stdout",
     "output_type": "stream",
     "text": [
      "[<Record nodeQuery=\"MATCH (n) where head(Labels(n))='COUNTRIES' or head(Labels(n))='STYLE' RETURN id(n) AS id\" relationshipQuery='MATCH (c:COUNTRIES)<-[:IN]-(:CITIES)<-[:IN]-(:BREWERIES)-[:BREWED]->(b:BEERS)-[:HAS_STYLE]->(s:STYLE)\\n                WITH c, COUNT(s.name) AS freq\\n                ORDER BY freq DESC\\n                LIMIT 10\\n                MATCH (c2:COUNTRIES)<-[:IN]-(:CITIES)<-[:IN]-(:BREWERIES)-[:BREWED]->(b:BEERS)-[:HAS_STYLE]->(s2:STYLE)\\n                WITH collect(distinct id(c)) as old, c2, s2, COUNT(s2.name) AS freq2\\n                ORDER BY freq2 DESC\\n                WHERE any(x IN old WHERE x = id(c2))\\n                return id(c2) AS source, id(s2) AS target\\n                LIMIT 1000' graphName='similar_countries' nodeCount=313 relationshipCount=1000 projectMillis=57533>]\n"
     ]
    }
   ],
   "source": [
    "# Step 1 - Create an appropriate graph\n",
    "\n",
    "try:\n",
    "    query = \"\"\"\n",
    "        CALL gds.graph.project.cypher(\n",
    "            'similar_countries',\n",
    "            \"MATCH (n) where head(Labels(n))='COUNTRIES' or head(Labels(n))='STYLE' RETURN id(n) AS id\",\n",
    "            \"MATCH (c:COUNTRIES)<-[:IN]-(:CITIES)<-[:IN]-(:BREWERIES)-[:BREWED]->(b:BEERS)-[:HAS_STYLE]->(s:STYLE)\n",
    "                WITH c, COUNT(s.name) AS freq\n",
    "                ORDER BY freq DESC\n",
    "                LIMIT 10\n",
    "                MATCH (c2:COUNTRIES)<-[:IN]-(:CITIES)<-[:IN]-(:BREWERIES)-[:BREWED]->(b:BEERS)-[:HAS_STYLE]->(s2:STYLE)\n",
    "                WITH collect(distinct id(c)) as old, c2, s2, COUNT(s2.name) AS freq2\n",
    "                ORDER BY freq2 DESC\n",
    "                WHERE any(x IN old WHERE x = id(c2))\n",
    "                return id(c2) AS source, id(s2) AS target\n",
    "                LIMIT 1000\"\n",
    "            )\n",
    "        \"\"\"\n",
    "\n",
    "    result = execute_read(driver, query)\n",
    "\n",
    "    pprint(result)\n",
    "except Exception as e:\n",
    "    pprint(e)"
   ]
  },
  {
   "cell_type": "code",
   "execution_count": 19,
   "metadata": {},
   "outputs": [
    {
     "name": "stdout",
     "output_type": "stream",
     "text": [
      "[<Record Country1='US' Country2='CA' similarity=0.990909090909091>]\n"
     ]
    }
   ],
   "source": [
    "# Step 2 - Run the algorithm\n",
    "\n",
    "try:\n",
    "    query = \"\"\"\n",
    "        CALL gds.nodeSimilarity.stream('similar_countries')\n",
    "            YIELD node1, node2, similarity\n",
    "            WITH gds.util.asNode(node1).name AS Country1, gds.util.asNode(node2).name AS Country2, similarity\n",
    "            RETURN Country1, Country2, similarity\n",
    "            ORDER BY similarity DESCENDING\n",
    "            LIMIT 1\n",
    "        \"\"\"\n",
    "\n",
    "    result = execute_read(driver, query)\n",
    "\n",
    "    pprint(result)\n",
    "except Exception as e:\n",
    "    pprint(e)"
   ]
  },
  {
   "cell_type": "markdown",
   "metadata": {},
   "source": [
    "#### 10. Using Graph Algorithms answer **one** of the following questions:\n",
    "       2. Which user is the most influential when it comes to reviews made?"
   ]
  },
  {
   "cell_type": "code",
   "execution_count": 20,
   "metadata": {},
   "outputs": [
    {
     "name": "stdout",
     "output_type": "stream",
     "text": [
      "[<Record graphName='influential_user'>]\n"
     ]
    }
   ],
   "source": [
    "# Step 0 - Clear graph, graph names need to be unique\n",
    "\n",
    "try:\n",
    "    query = \"\"\"\n",
    "            CALL gds.graph.drop('influential_user') YIELD graphName;\n",
    "        \"\"\"\n",
    "\n",
    "    result = execute_read(driver, query)\n",
    "\n",
    "    pprint(result)\n",
    "except Exception as e:\n",
    "    pprint(e)"
   ]
  },
  {
   "cell_type": "code",
   "execution_count": 21,
   "metadata": {},
   "outputs": [
    {
     "name": "stdout",
     "output_type": "stream",
     "text": [
      "[<Record nodeQuery='MATCH (n:USER) RETURN id(n) AS id' relationshipQuery='MATCH (u1:USER)<-[:POSTED]-(:REVIEWS)<-[:REVIEWED]-(b:BEERS)-[:REVIEWED]->(:REVIEWS)-[:POSTED]->(u2:USER)\\n             RETURN id(u1) AS source, id(u2) AS target\\n             LIMIT 1000' graphName='influential_user' nodeCount=164935 relationshipCount=1000 projectMillis=567>]\n"
     ]
    }
   ],
   "source": [
    "# Step 1 - Create an appropriate graph\n",
    "\n",
    "try:\n",
    "    query = \"\"\"\n",
    "        CALL gds.graph.project.cypher(\n",
    "            'influential_user',\n",
    "            'MATCH (n:USER) RETURN id(n) AS id',\n",
    "            'MATCH (u1:USER)<-[:POSTED]-(:REVIEWS)<-[:REVIEWED]-(b:BEERS)-[:REVIEWED]->(:REVIEWS)-[:POSTED]->(u2:USER)\n",
    "             RETURN id(u1) AS source, id(u2) AS target\n",
    "             LIMIT 1000'\n",
    "            )\n",
    "        \"\"\"\n",
    "\n",
    "    result = execute_read(driver, query)\n",
    "\n",
    "    pprint(result)\n",
    "except Exception as e:\n",
    "    pprint(e)"
   ]
  },
  {
   "cell_type": "code",
   "execution_count": 22,
   "metadata": {},
   "outputs": [
    {
     "name": "stdout",
     "output_type": "stream",
     "text": [
      "[<Record Username='bluejacket74' UserScore=120.51>]\n"
     ]
    }
   ],
   "source": [
    "# Step 2 - Run the algorithm\n",
    "\n",
    "try:\n",
    "    query = \"\"\"\n",
    "        CALL gds.pageRank.stream('influential_user')\n",
    "            YIELD nodeId, score\n",
    "            RETURN gds.util.asNode(nodeId).name AS Username, ROUND(score,2) AS UserScore\n",
    "            ORDER BY UserScore DESC\n",
    "            LIMIT 1\n",
    "        \"\"\"\n",
    "\n",
    "    result = execute_read(driver, query)\n",
    "\n",
    "    pprint(result)\n",
    "except Exception as e:\n",
    "    pprint(e)"
   ]
  },
  {
   "cell_type": "markdown",
   "metadata": {},
   "source": [
    "#### 11. If you had to pick 3 beers to recommend using only this database, which would you pick and why?"
   ]
  },
  {
   "cell_type": "code",
   "execution_count": 23,
   "metadata": {},
   "outputs": [
    {
     "name": "stdout",
     "output_type": "stream",
     "text": [
      "[<Record BeerName='Voragem' AvgScore=4.1 NumReviews=7>,\n",
      " <Record BeerName='Passarola IPA' AvgScore=4.1 NumReviews=7>,\n",
      " <Record BeerName='Mean Sardine / De Molen Ginja Ninja' AvgScore=4.2 NumReviews=4>]\n"
     ]
    }
   ],
   "source": [
    "# Excellent Portuguese Beers\n",
    "# Beers with a rating of four or higher are considered \"excellent\" here.\n",
    "# We will infer that among those great Portuguese beers, those with a bigger number of reviews\n",
    "# will be more consistently excellent for various tasters.\n",
    "# The concept behind this is that although Portugal is primarily recognized for its wine culture,\n",
    "# we wish to locate and recommend excellent beers from Portugal.\n",
    "\n",
    "excellentPortuguese_Beers = \"\"\"\n",
    "     MATCH (c:COUNTRIES)<-[]-(:CITIES)<-[]-(:BREWERIES)-[]->(b:BEERS)-[:REVIEWED]->(r:REVIEWS)\n",
    "     WHERE r.score <> 'nan' AND c.name ='PT'\n",
    "         WITH b.name AS BeerName, ROUND(AVG(toFloat(r.score)),1) AS AvgScore, COUNT(r) AS NumReviews\n",
    "     WHERE AvgScore > 4\n",
    "     RETURN BeerName, AvgScore, NumReviews\n",
    "     ORDER BY NumReviews DESC\n",
    "     LIMIT 3\n",
    "\"\"\"\n",
    "result = execute_read(driver, excellentPortuguese_Beers)\n",
    "\n",
    "pprint(result)"
   ]
  },
  {
   "cell_type": "code",
   "execution_count": 24,
   "metadata": {},
   "outputs": [
    {
     "name": "stdout",
     "output_type": "stream",
     "text": [
      "[<Record BeerName='Super Bock' AvgScore=2.8 NumReviews=391>,\n",
      " <Record BeerName='Sagres Cerveja' AvgScore=2.8 NumReviews=279>,\n",
      " <Record BeerName='Super Bock Stout' AvgScore=3.1 NumReviews=82>]\n"
     ]
    }
   ],
   "source": [
    "# Popular Portuguse Beers\n",
    "# We searched for the greatest beers in Portugal, but we found that there weren't enough ratings to be trustworthy.\n",
    "# Hence, we can also suggest the most often consumed beers in Portugal, regardless of quality,\n",
    "# only so that he or she can sample the common beer that the majority of Portuguese people regularly consume\n",
    "# (again, the reviews are only a proxy, as we believe this review website is not used by many Portuguese\n",
    "# considering the number of reviews for Super Bock, arguably the most famous beer in Portugal)\n",
    "\n",
    "popularPortuguese_Beers = \"\"\"\n",
    "     MATCH (c:COUNTRIES)<-[:IN]-(:CITIES)<-[:IN]-(:BREWERIES)-[:BREWED]->(b:BEERS)-[:REVIEWED]->(r:REVIEWS)\n",
    "     WHERE r.score <> 'nan' AND c.name ='PT'\n",
    "     RETURN b.name AS BeerName, ROUND(AVG(toFloat(r.score)),1) AS AvgScore, COUNT(r) AS NumReviews\n",
    "     ORDER BY NumReviews DESC\n",
    "     LIMIT 3\n",
    "\"\"\"\n",
    "result = execute_read(driver, popularPortuguese_Beers)\n",
    "\n",
    "pprint(result)"
   ]
  },
  {
   "cell_type": "code",
   "execution_count": 25,
   "metadata": {},
   "outputs": [
    {
     "name": "stdout",
     "output_type": "stream",
     "text": [
      "[<Record BeerName='Kentucky Brunch Brand Stout' AvgScore=4.84 NumReviews=434>,\n",
      " <Record BeerName='Drie Fonteinen Zenne Y Frontera' AvgScore=4.74 NumReviews=250>,\n",
      " <Record BeerName='King JJJuliusss' AvgScore=4.73 NumReviews=403>]\n"
     ]
    }
   ],
   "source": [
    "#The Great Unknowns\n",
    "# Using the quantity of reviews as a proxy, we wish to try to identify those beers that are little known\n",
    "# to the database's users yet have a high score.\n",
    "# Subjectively, the range of 200 to 500 reviews was chosen while taking into account the amount of reviews\n",
    "# of well-liked beers.\n",
    "# 2) Less than 500 reviews would suggest not many individuals have tried the beer as many beers have hundreds,\n",
    "# if not tens of thousands, of evaluations, however we believe the average score from 200 reviews is pretty reliable.\n",
    "\n",
    "greatUnknown_Beers = \"\"\"\n",
    "     MATCH (b:BEERS)-[:REVIEWED]->(r:REVIEWS)\n",
    "     WHERE r.overall <> 'nan'\n",
    "     WITH b.name AS BeerName, ROUND(AVG(toFloat(r.score)),2) AS AvgScore, COUNT(r) AS NumReviews\n",
    "     WHERE AvgScore > 4 AND NumReviews >= 200 AND NumReviews <= 500\n",
    "     RETURN BeerName, AvgScore, NumReviews\n",
    "     ORDER BY AvgScore DESC\n",
    "     LIMIT 3\n",
    "\"\"\"\n",
    "result = execute_read(driver, greatUnknown_Beers)\n",
    "\n",
    "pprint(result)"
   ]
  }
 ],
 "metadata": {
  "hide_input": false,
  "kernelspec": {
   "display_name": "Python 3 (ipykernel)",
   "language": "python",
   "name": "python3"
  },
  "language_info": {
   "codemirror_mode": {
    "name": "ipython",
    "version": 3
   },
   "file_extension": ".py",
   "mimetype": "text/x-python",
   "name": "python",
   "nbconvert_exporter": "python",
   "pygments_lexer": "ipython3",
   "version": "3.9.12"
  },
  "toc": {
   "base_numbering": 1,
   "nav_menu": {},
   "number_sections": true,
   "sideBar": true,
   "skip_h1_title": false,
   "title_cell": "Table of Contents",
   "title_sidebar": "Contents",
   "toc_cell": false,
   "toc_position": {},
   "toc_section_display": true,
   "toc_window_display": false
  },
  "varInspector": {
   "cols": {
    "lenName": 16,
    "lenType": 16,
    "lenVar": 40
   },
   "kernels_config": {
    "python": {
     "delete_cmd_postfix": "",
     "delete_cmd_prefix": "del ",
     "library": "var_list.py",
     "varRefreshCmd": "print(var_dic_list())"
    },
    "r": {
     "delete_cmd_postfix": ") ",
     "delete_cmd_prefix": "rm(",
     "library": "var_list.r",
     "varRefreshCmd": "cat(var_dic_list()) "
    }
   },
   "types_to_exclude": [
    "module",
    "function",
    "builtin_function_or_method",
    "instance",
    "_Feature"
   ],
   "window_display": false
  }
 },
 "nbformat": 4,
 "nbformat_minor": 4
}
